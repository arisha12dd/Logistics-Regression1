{
  "nbformat": 4,
  "nbformat_minor": 0,
  "metadata": {
    "colab": {
      "provenance": []
    },
    "kernelspec": {
      "name": "python3",
      "display_name": "Python 3"
    },
    "language_info": {
      "name": "python"
    }
  },
  "cells": [
    {
      "cell_type": "markdown",
      "source": [
        "1.What is Logistic Regression, and how does it differ from Linear regression ?\n",
        "\n",
        "\n",
        "  Logistic Regression is a statistical method used to predict categorical outcomes, like yes/no, true/false, or 0/1. It is mainly used for classification problems.\n",
        "\n",
        "The  differences between Logistic Regression and Linear Regression in simple lines:\n",
        "\n",
        "Logistic Regression is used for classification, while Linear Regression is used for prediction of continuous values.\n",
        "\n",
        "Logistic Regression gives output in the form of probabilities between 0 and 1, but Linear Regression can output any real number.\n",
        "\n",
        "Logistic Regression uses a sigmoid function to map predictions, whereas Linear Regression uses a straight-line equation.\n",
        "\n",
        "In Logistic Regression, the target variable is categorical (like 0 or 1), while in Linear Regression, the target is continuous (like 2.5, 100.3, etc.).\n",
        "\n",
        "Logistic Regression is commonly used to predict outcomes like yes/no, true/false, whereas Linear Regression is used to predict values like price, age, score, etc."
      ],
      "metadata": {
        "id": "DvBKc9N_AK_T"
      }
    },
    {
      "cell_type": "markdown",
      "source": [
        "Question 2: Explain the role of the Sigmoid function in Logistic Regression ?\n",
        "\n",
        " The Sigmoid function in Logistic Regression converts the linear output into a value between 0 and 1, which represents a probability. It helps in classifying inputs into two categories (like yes/no or 0/1) by mapping the result to a probability score."
      ],
      "metadata": {
        "id": "75YI1JDvAK8G"
      }
    },
    {
      "cell_type": "markdown",
      "source": [
        "Question 3: What is Regularization in Logistic Regression and why is it needed?\n",
        "Answer:\n",
        "Regularization is a technique used to prevent overfitting by penalizing large coefficients in the model. It helps the model stay simple and general, so it works well on new data.\n",
        "\n"
      ],
      "metadata": {
        "id": "rB7BAPPKAK5J"
      }
    },
    {
      "cell_type": "markdown",
      "source": [
        "Question 4: What are some common evaluation metrics for classification models, and why are they important?\n",
        "Answer:\n",
        "Common metrics include:\n",
        "\n",
        "Accuracy – how often the model is correct\n",
        "\n",
        "Precision – how many predicted positives are actually correct\n",
        "\n",
        "Recall – how many actual positives were correctly predicted\n",
        "\n",
        "F1 Score – balance between precision and recall\n",
        "\n",
        "These metrics are important to measure model performance, especially when data is imbalanced."
      ],
      "metadata": {
        "id": "JIk_irhfAK2Z"
      }
    },
    {
      "cell_type": "code",
      "source": [
        "Question 5: Write a Python program that loads a CSV file into a Pandas DataFrame,\n",
        "splits into train/test sets, trains a Logistic Regression model, and prints its accuracy.\n",
        "(Use Dataset from sklearn package)\n",
        "(Include your Python code and output in the code box below.)\n",
        "\n",
        "\n",
        "from sklearn.datasets import load_breast_cancer\n",
        "\n",
        "from sklearn.model_selection import train_test_split\n",
        "\n",
        "from sklearn.linear_model import LogisticRegression\n",
        "\n",
        "from sklearn.metrics import accuracy_score\n",
        "\n",
        "import pandas as pd\n",
        "\n",
        "#load Dataset\n",
        "data = load_breast_cancer()\n",
        "\n",
        "df = pd.DataFrame(data.data, columns=data.feature_names)\n",
        "\n",
        "df['target'] = data.target\n",
        "\n",
        "# Split data\n",
        "\n",
        "X = df.drop('target', axis=1)\n",
        "\n",
        "y = df['target']\n",
        "\n",
        "X_train, X_test, y_train, y_test = train_test_split(X, y, test_size=0.2, random_state=42)\n",
        "\n",
        "#Train Logistic Regression\n",
        "\n",
        "model = LogisticRegression(max_iter=10000)\n",
        "\n",
        "model.fit(X_train, y_train)\n",
        "\n",
        "# Predict and print accuracy\n",
        "\n",
        "y_pred = model.predict(X_test)\n",
        "\n",
        "accuracy = accuracy_score(y_test, y_pred)\n",
        "\n",
        "print(\"Accuracy:\", accuracy)\n"
      ],
      "metadata": {
        "id": "_LmZTg_BD7K6"
      },
      "execution_count": null,
      "outputs": []
    },
    {
      "cell_type": "code",
      "source": [
        "Question 6: Write a Python program to train a Logistic Regression model using L2\n",
        "regularization (Ridge) and print the model coefficients and accuracy.\n",
        "(Use Dataset from sklearn package)\n",
        "(Include your Python code and output in the code box below.)\n",
        "\n",
        "from sklearn.datasets import load_breast_cancer\n",
        "from sklearn.linear_model import LogisticRegression\n",
        "from sklearn.model_selection import train_test_split\n",
        "from sklearn.metrics import accuracy_score\n",
        "\n",
        "# Load data\n",
        "data = load_breast_cancer()\n",
        "X = data.data\n",
        "y = data.target\n",
        "\n",
        "# Split data\n",
        "X_train, X_test, y_train, y_test = train_test_split(X, y, test_size=0.2, random_state=0)\n",
        "\n",
        "# Train Logistic Regression with L2 regularization\n",
        "model = LogisticRegression(penalty='l2', solver='liblinear')\n",
        "model.fit(X_train, y_train)\n",
        "\n",
        "# Print coefficients and accuracy\n",
        "print(\"Model Coefficients:\", model.coef_)\n",
        "print(\"Accuracy:\", accuracy_score(y_test, model.predict(X_test)))\n"
      ],
      "metadata": {
        "id": "TwOVHzoqDsLS"
      },
      "execution_count": null,
      "outputs": []
    },
    {
      "cell_type": "code",
      "source": [
        "Question 7: Write a Python program to train a Logistic Regression model for multiclass\n",
        "classification using multi_class='ovr' and print the classification report.\n",
        "(Use Dataset from sklearn package)\n",
        "(Include your Python code and output in the code box below.)\n",
        "\n",
        "from sklearn.datasets import load_iris\n",
        "from sklearn.linear_model import LogisticRegression\n",
        "from sklearn.model_selection import train_test_split\n",
        "from sklearn.metrics import classification_report\n",
        "\n",
        "# Load dataset\n",
        "data = load_iris()\n",
        "X = data.data\n",
        "y = data.target\n",
        "\n",
        "# Split data\n",
        "X_train, X_test, y_train, y_test = train_test_split(X, y, test_size=0.2, random_state=1)\n",
        "\n",
        "# Train Logistic Regression for multiclass\n",
        "model = LogisticRegression(multi_class='ovr', solver='liblinear')\n",
        "model.fit(X_train, y_train)\n",
        "\n",
        "# Print classification report\n",
        "y_pred = model.predict(X_test)\n",
        "print(classification_report(y_test, y_pred))\n",
        "\n"
      ],
      "metadata": {
        "id": "jy9GoNXOECdm"
      },
      "execution_count": null,
      "outputs": []
    },
    {
      "cell_type": "code",
      "source": [
        "Question 8: Write a Python program to apply GridSearchCV to tune C and penalty hyperparameters for Logistic Regression and print the best parameters and validation accuracy.\n",
        "\n",
        "Answer:\n",
        "\n",
        "from sklearn.datasets import load_breast_cancer\n",
        "from sklearn.model_selection import train_test_split, GridSearchCV\n",
        "from sklearn.linear_model import LogisticRegression\n",
        "from sklearn.metrics import accuracy_score\n",
        "\n",
        "# Load data\n",
        "data = load_breast_cancer()\n",
        "X = data.data\n",
        "y = data.target\n",
        "\n",
        "# Split data\n",
        "X_train, X_test, y_train, y_test = train_test_split(X, y, test_size=0.2, random_state=0)\n",
        "\n",
        "# Define model and hyperparameters\n",
        "model = LogisticRegression(solver='liblinear')\n",
        "param_grid = {'C': [0.01, 0.1, 1, 10], 'penalty': ['l1', 'l2']}\n",
        "\n",
        "# Grid search\n",
        "grid = GridSearchCV(model, param_grid, cv=5)\n",
        "grid.fit(X_train, y_train)\n",
        "\n",
        "# Best parameters and accuracy\n",
        "print(\"Best Parameters:\", grid.best_params_)\n",
        "print(\"Validation Accuracy:\", grid.best_score_)\n"
      ],
      "metadata": {
        "id": "P4WQQduWFPyR"
      },
      "execution_count": null,
      "outputs": []
    },
    {
      "cell_type": "code",
      "source": [
        "Question 9: Write a Python program to standardize the features before training Logistic Regression and compare the model's accuracy with and without scaling.\n",
        "\n",
        "Answer:\n",
        "\n",
        "from sklearn.datasets import load_breast_cancer\n",
        "from sklearn.linear_model import LogisticRegression\n",
        "from sklearn.model_selection import train_test_split\n",
        "from sklearn.preprocessing import StandardScaler\n",
        "from sklearn.metrics import accuracy_score\n",
        "\n",
        "# Load data\n",
        "data = load_breast_cancer()\n",
        "X = data.data\n",
        "y = data.target\n",
        "\n",
        "# Split data\n",
        "X_train, X_test, y_train, y_test = train_test_split(X, y, test_size=0.2, random_state=0)\n",
        "\n",
        "# Without Scaling\n",
        "model1 = LogisticRegression(max_iter=10000)\n",
        "model1.fit(X_train, y_train)\n",
        "acc_no_scaling = accuracy_score(y_test, model1.predict(X_test))\n",
        "\n",
        "# With Scaling\n",
        "scaler = StandardScaler()\n",
        "X_train_scaled = scaler.fit_transform(X_train)\n",
        "X_test_scaled = scaler.transform(X_test)\n",
        "\n",
        "model2 = LogisticRegression(max_iter=10000)\n",
        "model2.fit(X_train_scaled, y_train)\n",
        "acc_with_scaling = accuracy_score(y_test, model2.predict(X_test_scaled))\n",
        "\n",
        "print(\"Accuracy without scaling:\", acc_no_scaling)\n",
        "print(\"Accuracy with scaling:\", acc_with_scaling)\n",
        "\n"
      ],
      "metadata": {
        "id": "Od3vAhsDElQq"
      },
      "execution_count": null,
      "outputs": []
    },
    {
      "cell_type": "code",
      "source": [
        "Question 10: Imagine you are working at an e-commerce company that wants to predict which customers will respond to a marketing campaign. Given an imbalanced dataset (only 5% of customers respond), describe the approach you’d take to build a Logistic Regression model — including data handling, feature scaling, balancing classes, hyperparameter tuning, and evaluating the model for this real-world business use case.\n",
        "\n",
        "Answer:\n",
        "\n",
        "As part of the e-commerce team, I followed a structured approach to build a Logistic Regression model for predicting customer responses in an imbalanced dataset:\n",
        "\n",
        "Data Handling:\n",
        "\n",
        "I loaded and cleaned the dataset, handled missing values, and encoded categorical features.\n",
        "\n",
        "Since the dataset was highly imbalanced (only 5% positive class), I took special care in the next steps.\n",
        "\n",
        "Feature Scaling:\n",
        "\n",
        "I used StandardScaler to standardize all numerical features. Logistic Regression works better when features are on a similar scale.\n",
        "\n",
        "Balancing Classes:\n",
        "\n",
        "I used techniques like SMOTE (Synthetic Minority Over-sampling Technique) to oversample the minority class (responders).\n",
        "\n",
        "Alternatively, I also tested class_weight='balanced' in LogisticRegression to let the algorithm handle imbalance.\n",
        "\n",
        "Model Training:\n",
        "\n",
        "I trained a Logistic Regression model using cross-validation.\n",
        "\n",
        "I applied GridSearchCV to tune hyperparameters like C (regularization strength) and penalty (L1 or L2).\n",
        "\n",
        "Evaluation:\n",
        "\n",
        "Since accuracy can be misleading in imbalanced data, I focused on metrics like:\n",
        "\n",
        "Precision – to minimize false positives (e.g., customers who didn’t respond but were predicted to).\n",
        "\n",
        "Recall – to capture as many true responders as possible.\n",
        "\n",
        "F1-Score – to balance precision and recall.\n",
        "\n",
        "ROC-AUC score – to evaluate how well the model separates classes.\n",
        "\n",
        "Business Use:\n",
        "\n",
        "This model helped the marketing team target the right set of customers, saving costs and improving campaign effectiveness.\n",
        "\n",
        "By carefully handling imbalance, scaling, and tuning, the Logistic Regression model became a valuable tool for customer targeting in our business."
      ],
      "metadata": {
        "id": "5v3gHcbPEw7F"
      },
      "execution_count": null,
      "outputs": []
    }
  ]
}